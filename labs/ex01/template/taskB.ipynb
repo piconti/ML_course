{
 "cells": [
  {
   "cell_type": "code",
   "execution_count": 1,
   "metadata": {},
   "outputs": [],
   "source": [
    "%matplotlib inline\n",
    "import numpy as np\n",
    "import matplotlib.pyplot as plt\n",
    "%load_ext autoreload\n",
    "%autoreload 2"
   ]
  },
  {
   "cell_type": "markdown",
   "metadata": {},
   "source": [
    "Data Generation\n",
    "==="
   ]
  },
  {
   "cell_type": "code",
   "execution_count": 2,
   "metadata": {},
   "outputs": [
    {
     "name": "stdout",
     "output_type": "stream",
     "text": [
      "[[0.77132064 0.02075195]\n",
      " [0.63364823 0.74880388]\n",
      " [0.49850701 0.22479665]\n",
      " [0.19806286 0.76053071]] \n",
      "\n",
      " [[0.16911084 0.08833981]\n",
      " [0.68535982 0.95339335]\n",
      " [0.00394827 0.51219226]\n",
      " [0.81262096 0.61252607]\n",
      " [0.72175532 0.29187607]]\n"
     ]
    }
   ],
   "source": [
    "np.random.seed(10)\n",
    "p, q = (np.random.rand(i, 2) for i in (4, 5))\n",
    "p_big, q_big = (np.random.rand(i, 80) for i in (100, 120))\n",
    "\n",
    "print(p, \"\\n\\n\", q)"
   ]
  },
  {
   "cell_type": "markdown",
   "metadata": {},
   "source": [
    "Solution\n",
    "==="
   ]
  },
  {
   "cell_type": "code",
   "execution_count": 60,
   "metadata": {},
   "outputs": [],
   "source": [
    "def naive(p, q):\n",
    "    d = np.zeros((p.shape[0], q.shape[0]))\n",
    "    for i in range(p.shape[0]):\n",
    "        for j in range(q.shape[0]):\n",
    "            dist_x = p[i, 0] - q[j, 0]\n",
    "            dist_y = p[i, 1] - q[j, 1]\n",
    "            d[i, j] = np.sqrt(dist_x**2 + dist_y**2)\n",
    "    return d"
   ]
  },
  {
   "cell_type": "code",
   "execution_count": 57,
   "metadata": {},
   "outputs": [
    {
     "data": {
      "text/plain": [
       "4"
      ]
     },
     "execution_count": 57,
     "metadata": {},
     "output_type": "execute_result"
    }
   ],
   "source": [
    "p.shape[0]"
   ]
  },
  {
   "cell_type": "markdown",
   "metadata": {},
   "source": [
    "### Use matching indices\n",
    "\n",
    "Instead of iterating through indices, one can use them directly to parallelize the operations with Numpy."
   ]
  },
  {
   "cell_type": "code",
   "execution_count": 8,
   "metadata": {},
   "outputs": [
    {
     "name": "stdout",
     "output_type": "stream",
     "text": [
      "[[0 0 0 0 0]\n",
      " [1 1 1 1 1]\n",
      " [2 2 2 2 2]\n",
      " [3 3 3 3 3]]\n",
      "\n",
      "[[0 1 2 3 4]\n",
      " [0 1 2 3 4]\n",
      " [0 1 2 3 4]\n",
      " [0 1 2 3 4]]\n"
     ]
    }
   ],
   "source": [
    "rows, cols = np.indices((p.shape[0], q.shape[0]))\n",
    "print(rows, end='\\n\\n')\n",
    "print(cols)"
   ]
  },
  {
   "cell_type": "code",
   "execution_count": 52,
   "metadata": {
    "scrolled": true
   },
   "outputs": [
    {
     "name": "stdout",
     "output_type": "stream",
     "text": [
      "[[0.77132064 0.02075195]\n",
      " [0.77132064 0.02075195]\n",
      " [0.77132064 0.02075195]\n",
      " [0.77132064 0.02075195]\n",
      " [0.77132064 0.02075195]\n",
      " [0.63364823 0.74880388]\n",
      " [0.63364823 0.74880388]\n",
      " [0.63364823 0.74880388]\n",
      " [0.63364823 0.74880388]\n",
      " [0.63364823 0.74880388]\n",
      " [0.49850701 0.22479665]\n",
      " [0.49850701 0.22479665]\n",
      " [0.49850701 0.22479665]\n",
      " [0.49850701 0.22479665]\n",
      " [0.49850701 0.22479665]\n",
      " [0.19806286 0.76053071]\n",
      " [0.19806286 0.76053071]\n",
      " [0.19806286 0.76053071]\n",
      " [0.19806286 0.76053071]\n",
      " [0.19806286 0.76053071]]\n",
      "\n",
      "[[0.16911084 0.08833981]\n",
      " [0.68535982 0.95339335]\n",
      " [0.00394827 0.51219226]\n",
      " [0.81262096 0.61252607]\n",
      " [0.72175532 0.29187607]\n",
      " [0.16911084 0.08833981]\n",
      " [0.68535982 0.95339335]\n",
      " [0.00394827 0.51219226]\n",
      " [0.81262096 0.61252607]\n",
      " [0.72175532 0.29187607]\n",
      " [0.16911084 0.08833981]\n",
      " [0.68535982 0.95339335]\n",
      " [0.00394827 0.51219226]\n",
      " [0.81262096 0.61252607]\n",
      " [0.72175532 0.29187607]\n",
      " [0.16911084 0.08833981]\n",
      " [0.68535982 0.95339335]\n",
      " [0.00394827 0.51219226]\n",
      " [0.81262096 0.61252607]\n",
      " [0.72175532 0.29187607]]\n"
     ]
    }
   ],
   "source": [
    "print(p[rows.ravel()], end='\\n\\n')\n",
    "print(q[cols.ravel()])"
   ]
  },
  {
   "cell_type": "code",
   "execution_count": 46,
   "metadata": {
    "scrolled": true
   },
   "outputs": [
    {
     "data": {
      "text/plain": [
       "array([[ 0.60220981, -0.06758786],\n",
       "       [ 0.08596082, -0.9326414 ],\n",
       "       [ 0.76737238, -0.49144031],\n",
       "       [-0.04130032, -0.59177412],\n",
       "       [ 0.04956533, -0.27112412],\n",
       "       [ 0.4645374 ,  0.66046407],\n",
       "       [-0.05171158, -0.20458946],\n",
       "       [ 0.62969997,  0.23661162],\n",
       "       [-0.17897273,  0.13627782],\n",
       "       [-0.08810708,  0.45692781],\n",
       "       [ 0.32939618,  0.13645683],\n",
       "       [-0.18685281, -0.7285967 ],\n",
       "       [ 0.49455875, -0.28739562],\n",
       "       [-0.31411395, -0.38772942],\n",
       "       [-0.22324831, -0.06707942],\n",
       "       [ 0.02895203,  0.6721909 ],\n",
       "       [-0.48729695, -0.19286263],\n",
       "       [ 0.1941146 ,  0.24833845],\n",
       "       [-0.6145581 ,  0.14800465],\n",
       "       [-0.52369245,  0.46865464]])"
      ]
     },
     "execution_count": 46,
     "metadata": {},
     "output_type": "execute_result"
    }
   ],
   "source": [
    "p[rows.ravel()] - q[cols.ravel()]"
   ]
  },
  {
   "cell_type": "code",
   "execution_count": 47,
   "metadata": {},
   "outputs": [],
   "source": [
    "x =(p[rows.ravel()] - q[cols.ravel()])**2"
   ]
  },
  {
   "cell_type": "code",
   "execution_count": 48,
   "metadata": {
    "scrolled": true
   },
   "outputs": [
    {
     "data": {
      "text/plain": [
       "array([0.36722477, 0.87720924, 0.83037395, 0.35190232, 0.07596501,\n",
       "       0.65200778, 0.04453094, 0.45250711, 0.05060288, 0.21654589,\n",
       "       0.12712231, 0.56576712, 0.32718459, 0.24900168, 0.05433945,\n",
       "       0.45267882, 0.27465432, 0.09935246, 0.39958703, 0.49389096])"
      ]
     },
     "execution_count": 48,
     "metadata": {},
     "output_type": "execute_result"
    }
   ],
   "source": [
    "x =np.sum(x, axis = 1)\n",
    "x"
   ]
  },
  {
   "cell_type": "code",
   "execution_count": 49,
   "metadata": {},
   "outputs": [
    {
     "data": {
      "text/plain": [
       "array([0.60599073, 0.93659449, 0.91124856, 0.59321356, 0.27561751,\n",
       "       0.80746999, 0.21102354, 0.67268649, 0.22495084, 0.46534491,\n",
       "       0.35654215, 0.75217493, 0.57200052, 0.49900068, 0.23310825,\n",
       "       0.67281411, 0.52407472, 0.31520226, 0.63212897, 0.70277376])"
      ]
     },
     "execution_count": 49,
     "metadata": {},
     "output_type": "execute_result"
    }
   ],
   "source": [
    "np.sqrt(x)"
   ]
  },
  {
   "cell_type": "code",
   "execution_count": 50,
   "metadata": {},
   "outputs": [
    {
     "data": {
      "text/plain": [
       "array([[0.36722477, 0.87720924, 0.83037395, 0.35190232, 0.07596501],\n",
       "       [0.65200778, 0.04453094, 0.45250711, 0.05060288, 0.21654589],\n",
       "       [0.12712231, 0.56576712, 0.32718459, 0.24900168, 0.05433945],\n",
       "       [0.45267882, 0.27465432, 0.09935246, 0.39958703, 0.49389096]])"
      ]
     },
     "execution_count": 50,
     "metadata": {},
     "output_type": "execute_result"
    }
   ],
   "source": [
    "np.reshape(x, rows.shape)"
   ]
  },
  {
   "cell_type": "code",
   "execution_count": 51,
   "metadata": {},
   "outputs": [],
   "source": [
    "def with_indices(p, q):\n",
    "    rows, cols = np.indices((p.shape[0], q.shape[0]))\n",
    "    x = np.sqrt(np.sum((p[rows.ravel()] - q[cols.ravel()])**2, axis=1))\n",
    "    return np.reshape(x, rows.shape)"
   ]
  },
  {
   "cell_type": "markdown",
   "metadata": {},
   "source": [
    "### Use a library\n",
    "\n",
    "`scipy` is the equivalent of matlab toolboxes and have a lot to offer. Actually the pairwise computation is part of the library through the `spatial` module."
   ]
  },
  {
   "cell_type": "code",
   "execution_count": 53,
   "metadata": {},
   "outputs": [],
   "source": [
    "from scipy.spatial.distance import cdist\n",
    "\n",
    "def scipy_version(p, q):\n",
    "    return cdist(p, q)"
   ]
  },
  {
   "cell_type": "markdown",
   "metadata": {},
   "source": [
    "### Numpy Magic"
   ]
  },
  {
   "cell_type": "code",
   "execution_count": 54,
   "metadata": {},
   "outputs": [],
   "source": [
    "def tensor_broadcasting(p, q):\n",
    "    return np.sqrt(np.sum((p[:,np.newaxis,:]-q[np.newaxis,:,:])**2, axis=2))"
   ]
  },
  {
   "cell_type": "markdown",
   "metadata": {},
   "source": [
    "# Compare methods"
   ]
  },
  {
   "cell_type": "code",
   "execution_count": 61,
   "metadata": {},
   "outputs": [
    {
     "name": "stdout",
     "output_type": "stream",
     "text": [
      "42.7 ms ± 4.17 ms per loop (mean ± std. dev. of 7 runs, 10 loops each)\n",
      "6.65 ms ± 863 µs per loop (mean ± std. dev. of 7 runs, 100 loops each)\n",
      "846 µs ± 23.1 µs per loop (mean ± std. dev. of 7 runs, 1000 loops each)\n",
      "3.43 ms ± 9.32 µs per loop (mean ± std. dev. of 7 runs, 100 loops each)\n"
     ]
    }
   ],
   "source": [
    "methods = [naive, with_indices, scipy_version, tensor_broadcasting]\n",
    "timers = []\n",
    "for f in methods:\n",
    "    r = %timeit -o f(p_big, q_big)\n",
    "    timers.append(r)"
   ]
  },
  {
   "cell_type": "code",
   "execution_count": 62,
   "metadata": {},
   "outputs": [
    {
     "data": {
      "image/png": "[encoded data removed]",
      "text/plain": [
       "<Figure size 720x432 with 1 Axes>"
      ]
     },
     "metadata": {
      "needs_background": "light"
     },
     "output_type": "display_data"
    }
   ],
   "source": [
    "plt.figure(figsize=(10,6))\n",
    "plt.bar(np.arange(len(methods)), [r.best*1000 for r in timers], log=False)  # Set log to True for logarithmic scale\n",
    "plt.xticks(np.arange(len(methods))+0.2, [f.__name__ for f in methods], rotation=30)\n",
    "plt.xlabel('Method')\n",
    "plt.ylabel('Time (ms)')\n",
    "plt.show()"
   ]
  },
  {
   "cell_type": "code",
   "execution_count": null,
   "metadata": {},
   "outputs": [],
   "source": []
  },
  {
   "cell_type": "code",
   "execution_count": null,
   "metadata": {},
   "outputs": [],
   "source": []
  }
 ],
 "metadata": {
  "kernelspec": {
   "display_name": "Python 3",
   "language": "python",
   "name": "python3"
  },
  "language_info": {
   "codemirror_mode": {
    "name": "ipython",
    "version": 3
   },
   "file_extension": ".py",
   "mimetype": "text/x-python",
   "name": "python",
   "nbconvert_exporter": "python",
   "pygments_lexer": "ipython3",
   "version": "3.7.9"
  }
 },
 "nbformat": 4,
 "nbformat_minor": 1
}
